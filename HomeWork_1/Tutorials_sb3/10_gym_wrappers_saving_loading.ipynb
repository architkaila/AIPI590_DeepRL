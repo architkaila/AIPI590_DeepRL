{
  "nbformat": 4,
  "nbformat_minor": 0,
  "metadata": {
    "colab": {
      "name": "2_gym_wrappers_saving_loading.ipynb",
      "provenance": [],
      "collapsed_sections": []
    },
    "kernelspec": {
      "display_name": "Python 3",
      "language": "python",
      "name": "python3"
    },
    "language_info": {
      "codemirror_mode": {
        "name": "ipython",
        "version": 3
      },
      "file_extension": ".py",
      "mimetype": "text/x-python",
      "name": "python",
      "nbconvert_exporter": "python",
      "pygments_lexer": "ipython3",
      "version": "3.7.4"
    }
  },
  "cells": [
    {
      "cell_type": "markdown",
      "metadata": {
        "id": "3ezJ3Y7XRUnj"
      },
      "source": [
        "# Stable Baselines3 Tutorial - Gym wrappers, saving and loading models\n",
        "\n",
        "Github repo: https://github.com/araffin/rl-tutorial-jnrr19/tree/sb3/\n",
        "\n",
        "Stable-Baselines3: https://github.com/DLR-RM/stable-baselines3\n",
        "\n",
        "Documentation: https://stable-baselines3.readthedocs.io/en/master/\n",
        "\n",
        "RL Baselines3 zoo: https://github.com/DLR-RM/rl-baselines3-zoo\n",
        "\n",
        "\n",
        "## Introduction\n",
        "\n",
        "In this notebook, you will learn how to use *Gym Wrappers* which allow to do monitoring, normalization, limit the number of steps, feature augmentation, ...\n",
        "\n",
        "\n",
        "You will also see the *loading* and *saving* functions, and how to read the outputed files for possible exporting.\n",
        "\n",
        "## Install Dependencies and Stable Baselines3 Using Pip"
      ]
    },
    {
      "cell_type": "code",
      "metadata": {
        "id": "YFdlFByORUnl",
        "colab": {
          "base_uri": "https://localhost:8080/",
          "height": 1000
        },
        "outputId": "6acc8dd2-35c6-499e-b38b-538a4ac4f33a"
      },
      "source": [
        "!apt install swig\n",
        "!pip install stable-baselines3[extra]"
      ],
      "execution_count": 1,
      "outputs": [
        {
          "output_type": "stream",
          "name": "stdout",
          "text": [
            "Reading package lists... Done\n",
            "Building dependency tree       \n",
            "Reading state information... Done\n",
            "The following package was automatically installed and is no longer required:\n",
            "  libnvidia-common-460\n",
            "Use 'apt autoremove' to remove it.\n",
            "The following additional packages will be installed:\n",
            "  swig3.0\n",
            "Suggested packages:\n",
            "  swig-doc swig-examples swig3.0-examples swig3.0-doc\n",
            "The following NEW packages will be installed:\n",
            "  swig swig3.0\n",
            "0 upgraded, 2 newly installed, 0 to remove and 20 not upgraded.\n",
            "Need to get 1,100 kB of archives.\n",
            "After this operation, 5,822 kB of additional disk space will be used.\n",
            "Get:1 http://archive.ubuntu.com/ubuntu bionic/universe amd64 swig3.0 amd64 3.0.12-1 [1,094 kB]\n",
            "Get:2 http://archive.ubuntu.com/ubuntu bionic/universe amd64 swig amd64 3.0.12-1 [6,460 B]\n",
            "Fetched 1,100 kB in 1s (1,499 kB/s)\n",
            "Selecting previously unselected package swig3.0.\n",
            "(Reading database ... 157604 files and directories currently installed.)\n",
            "Preparing to unpack .../swig3.0_3.0.12-1_amd64.deb ...\n",
            "Unpacking swig3.0 (3.0.12-1) ...\n",
            "Selecting previously unselected package swig.\n",
            "Preparing to unpack .../swig_3.0.12-1_amd64.deb ...\n",
            "Unpacking swig (3.0.12-1) ...\n",
            "Setting up swig3.0 (3.0.12-1) ...\n",
            "Setting up swig (3.0.12-1) ...\n",
            "Processing triggers for man-db (2.8.3-2ubuntu0.1) ...\n",
            "Looking in indexes: https://pypi.org/simple, https://us-python.pkg.dev/colab-wheels/public/simple/\n",
            "Collecting stable-baselines3[extra]\n",
            "  Downloading stable_baselines3-1.6.0-py3-none-any.whl (177 kB)\n",
            "\u001b[K     |████████████████████████████████| 177 kB 18.2 MB/s \n",
            "\u001b[?25hRequirement already satisfied: cloudpickle in /usr/local/lib/python3.7/dist-packages (from stable-baselines3[extra]) (1.5.0)\n",
            "Requirement already satisfied: torch>=1.11 in /usr/local/lib/python3.7/dist-packages (from stable-baselines3[extra]) (1.12.1+cu113)\n",
            "Collecting gym==0.21\n",
            "  Downloading gym-0.21.0.tar.gz (1.5 MB)\n",
            "\u001b[K     |████████████████████████████████| 1.5 MB 46.5 MB/s \n",
            "\u001b[?25hRequirement already satisfied: pandas in /usr/local/lib/python3.7/dist-packages (from stable-baselines3[extra]) (1.3.5)\n",
            "Requirement already satisfied: numpy in /usr/local/lib/python3.7/dist-packages (from stable-baselines3[extra]) (1.21.6)\n",
            "Requirement already satisfied: matplotlib in /usr/local/lib/python3.7/dist-packages (from stable-baselines3[extra]) (3.2.2)\n",
            "Collecting ale-py==0.7.4\n",
            "  Downloading ale_py-0.7.4-cp37-cp37m-manylinux_2_17_x86_64.manylinux2014_x86_64.whl (1.6 MB)\n",
            "\u001b[K     |████████████████████████████████| 1.6 MB 45.2 MB/s \n",
            "\u001b[?25hRequirement already satisfied: psutil in /usr/local/lib/python3.7/dist-packages (from stable-baselines3[extra]) (5.4.8)\n",
            "Requirement already satisfied: pillow in /usr/local/lib/python3.7/dist-packages (from stable-baselines3[extra]) (7.1.2)\n",
            "Requirement already satisfied: tensorboard>=2.2.0 in /usr/local/lib/python3.7/dist-packages (from stable-baselines3[extra]) (2.8.0)\n",
            "Collecting protobuf~=3.19.0\n",
            "  Downloading protobuf-3.19.5-cp37-cp37m-manylinux_2_17_x86_64.manylinux2014_x86_64.whl (1.1 MB)\n",
            "\u001b[K     |████████████████████████████████| 1.1 MB 54.3 MB/s \n",
            "\u001b[?25hRequirement already satisfied: opencv-python in /usr/local/lib/python3.7/dist-packages (from stable-baselines3[extra]) (4.6.0.66)\n",
            "Collecting autorom[accept-rom-license]~=0.4.2\n",
            "  Downloading AutoROM-0.4.2-py3-none-any.whl (16 kB)\n",
            "Requirement already satisfied: importlib-metadata>=4.10.0 in /usr/local/lib/python3.7/dist-packages (from ale-py==0.7.4->stable-baselines3[extra]) (4.12.0)\n",
            "Requirement already satisfied: importlib-resources in /usr/local/lib/python3.7/dist-packages (from ale-py==0.7.4->stable-baselines3[extra]) (5.9.0)\n",
            "Requirement already satisfied: tqdm in /usr/local/lib/python3.7/dist-packages (from autorom[accept-rom-license]~=0.4.2->stable-baselines3[extra]) (4.64.1)\n",
            "Requirement already satisfied: requests in /usr/local/lib/python3.7/dist-packages (from autorom[accept-rom-license]~=0.4.2->stable-baselines3[extra]) (2.23.0)\n",
            "Requirement already satisfied: click in /usr/local/lib/python3.7/dist-packages (from autorom[accept-rom-license]~=0.4.2->stable-baselines3[extra]) (7.1.2)\n",
            "Collecting AutoROM.accept-rom-license\n",
            "  Downloading AutoROM.accept-rom-license-0.4.2.tar.gz (9.8 kB)\n",
            "  Installing build dependencies ... \u001b[?25l\u001b[?25hdone\n",
            "  Getting requirements to build wheel ... \u001b[?25l\u001b[?25hdone\n",
            "    Preparing wheel metadata ... \u001b[?25l\u001b[?25hdone\n",
            "Requirement already satisfied: typing-extensions>=3.6.4 in /usr/local/lib/python3.7/dist-packages (from importlib-metadata>=4.10.0->ale-py==0.7.4->stable-baselines3[extra]) (4.1.1)\n",
            "Requirement already satisfied: zipp>=0.5 in /usr/local/lib/python3.7/dist-packages (from importlib-metadata>=4.10.0->ale-py==0.7.4->stable-baselines3[extra]) (3.8.1)\n",
            "Requirement already satisfied: google-auth-oauthlib<0.5,>=0.4.1 in /usr/local/lib/python3.7/dist-packages (from tensorboard>=2.2.0->stable-baselines3[extra]) (0.4.6)\n",
            "Requirement already satisfied: grpcio>=1.24.3 in /usr/local/lib/python3.7/dist-packages (from tensorboard>=2.2.0->stable-baselines3[extra]) (1.48.1)\n",
            "Requirement already satisfied: werkzeug>=0.11.15 in /usr/local/lib/python3.7/dist-packages (from tensorboard>=2.2.0->stable-baselines3[extra]) (1.0.1)\n",
            "Requirement already satisfied: markdown>=2.6.8 in /usr/local/lib/python3.7/dist-packages (from tensorboard>=2.2.0->stable-baselines3[extra]) (3.4.1)\n",
            "Requirement already satisfied: tensorboard-plugin-wit>=1.6.0 in /usr/local/lib/python3.7/dist-packages (from tensorboard>=2.2.0->stable-baselines3[extra]) (1.8.1)\n",
            "Requirement already satisfied: google-auth<3,>=1.6.3 in /usr/local/lib/python3.7/dist-packages (from tensorboard>=2.2.0->stable-baselines3[extra]) (1.35.0)\n",
            "Requirement already satisfied: wheel>=0.26 in /usr/local/lib/python3.7/dist-packages (from tensorboard>=2.2.0->stable-baselines3[extra]) (0.37.1)\n",
            "Requirement already satisfied: tensorboard-data-server<0.7.0,>=0.6.0 in /usr/local/lib/python3.7/dist-packages (from tensorboard>=2.2.0->stable-baselines3[extra]) (0.6.1)\n",
            "Requirement already satisfied: absl-py>=0.4 in /usr/local/lib/python3.7/dist-packages (from tensorboard>=2.2.0->stable-baselines3[extra]) (1.2.0)\n",
            "Requirement already satisfied: setuptools>=41.0.0 in /usr/local/lib/python3.7/dist-packages (from tensorboard>=2.2.0->stable-baselines3[extra]) (57.4.0)\n",
            "Requirement already satisfied: pyasn1-modules>=0.2.1 in /usr/local/lib/python3.7/dist-packages (from google-auth<3,>=1.6.3->tensorboard>=2.2.0->stable-baselines3[extra]) (0.2.8)\n",
            "Requirement already satisfied: six>=1.9.0 in /usr/local/lib/python3.7/dist-packages (from google-auth<3,>=1.6.3->tensorboard>=2.2.0->stable-baselines3[extra]) (1.15.0)\n",
            "Requirement already satisfied: cachetools<5.0,>=2.0.0 in /usr/local/lib/python3.7/dist-packages (from google-auth<3,>=1.6.3->tensorboard>=2.2.0->stable-baselines3[extra]) (4.2.4)\n",
            "Requirement already satisfied: rsa<5,>=3.1.4 in /usr/local/lib/python3.7/dist-packages (from google-auth<3,>=1.6.3->tensorboard>=2.2.0->stable-baselines3[extra]) (4.9)\n",
            "Requirement already satisfied: requests-oauthlib>=0.7.0 in /usr/local/lib/python3.7/dist-packages (from google-auth-oauthlib<0.5,>=0.4.1->tensorboard>=2.2.0->stable-baselines3[extra]) (1.3.1)\n",
            "Requirement already satisfied: pyasn1<0.5.0,>=0.4.6 in /usr/local/lib/python3.7/dist-packages (from pyasn1-modules>=0.2.1->google-auth<3,>=1.6.3->tensorboard>=2.2.0->stable-baselines3[extra]) (0.4.8)\n",
            "Requirement already satisfied: idna<3,>=2.5 in /usr/local/lib/python3.7/dist-packages (from requests->autorom[accept-rom-license]~=0.4.2->stable-baselines3[extra]) (2.10)\n",
            "Requirement already satisfied: urllib3!=1.25.0,!=1.25.1,<1.26,>=1.21.1 in /usr/local/lib/python3.7/dist-packages (from requests->autorom[accept-rom-license]~=0.4.2->stable-baselines3[extra]) (1.24.3)\n",
            "Requirement already satisfied: certifi>=2017.4.17 in /usr/local/lib/python3.7/dist-packages (from requests->autorom[accept-rom-license]~=0.4.2->stable-baselines3[extra]) (2022.6.15)\n",
            "Requirement already satisfied: chardet<4,>=3.0.2 in /usr/local/lib/python3.7/dist-packages (from requests->autorom[accept-rom-license]~=0.4.2->stable-baselines3[extra]) (3.0.4)\n",
            "Requirement already satisfied: oauthlib>=3.0.0 in /usr/local/lib/python3.7/dist-packages (from requests-oauthlib>=0.7.0->google-auth-oauthlib<0.5,>=0.4.1->tensorboard>=2.2.0->stable-baselines3[extra]) (3.2.0)\n",
            "Requirement already satisfied: kiwisolver>=1.0.1 in /usr/local/lib/python3.7/dist-packages (from matplotlib->stable-baselines3[extra]) (1.4.4)\n",
            "Requirement already satisfied: python-dateutil>=2.1 in /usr/local/lib/python3.7/dist-packages (from matplotlib->stable-baselines3[extra]) (2.8.2)\n",
            "Requirement already satisfied: pyparsing!=2.0.4,!=2.1.2,!=2.1.6,>=2.0.1 in /usr/local/lib/python3.7/dist-packages (from matplotlib->stable-baselines3[extra]) (3.0.9)\n",
            "Requirement already satisfied: cycler>=0.10 in /usr/local/lib/python3.7/dist-packages (from matplotlib->stable-baselines3[extra]) (0.11.0)\n",
            "Requirement already satisfied: pytz>=2017.3 in /usr/local/lib/python3.7/dist-packages (from pandas->stable-baselines3[extra]) (2022.2.1)\n",
            "Building wheels for collected packages: gym, AutoROM.accept-rom-license\n",
            "  Building wheel for gym (setup.py) ... \u001b[?25l\u001b[?25hdone\n",
            "  Created wheel for gym: filename=gym-0.21.0-py3-none-any.whl size=1616824 sha256=adc24469d0c804790c88b5a5e937604f112a06ccbc5218b6f6563ed53ef17eb3\n",
            "  Stored in directory: /root/.cache/pip/wheels/76/ee/9c/36bfe3e079df99acf5ae57f4e3464ff2771b34447d6d2f2148\n",
            "  Building wheel for AutoROM.accept-rom-license (PEP 517) ... \u001b[?25l\u001b[?25hdone\n",
            "  Created wheel for AutoROM.accept-rom-license: filename=AutoROM.accept_rom_license-0.4.2-py3-none-any.whl size=441027 sha256=1e5d292493964a5acb6ba70f54ca22db2a55c8b31060a23071c9352076e38d5a\n",
            "  Stored in directory: /root/.cache/pip/wheels/87/67/2e/6147e7912fe37f5408b80d07527dab807c1d25f5c403a9538a\n",
            "Successfully built gym AutoROM.accept-rom-license\n",
            "Installing collected packages: protobuf, gym, AutoROM.accept-rom-license, autorom, stable-baselines3, ale-py\n",
            "  Attempting uninstall: protobuf\n",
            "    Found existing installation: protobuf 3.17.3\n",
            "    Uninstalling protobuf-3.17.3:\n",
            "      Successfully uninstalled protobuf-3.17.3\n",
            "  Attempting uninstall: gym\n",
            "    Found existing installation: gym 0.25.2\n",
            "    Uninstalling gym-0.25.2:\n",
            "      Successfully uninstalled gym-0.25.2\n",
            "Successfully installed AutoROM.accept-rom-license-0.4.2 ale-py-0.7.4 autorom-0.4.2 gym-0.21.0 protobuf-3.19.5 stable-baselines3-1.6.0\n"
          ]
        },
        {
          "output_type": "display_data",
          "data": {
            "application/vnd.colab-display-data+json": {
              "pip_warning": {
                "packages": [
                  "google"
                ]
              }
            }
          },
          "metadata": {}
        }
      ]
    },
    {
      "cell_type": "code",
      "metadata": {
        "id": "grXe85G9RUnp"
      },
      "source": [
        "import gym\n",
        "from stable_baselines3 import A2C, SAC, PPO, TD3"
      ],
      "execution_count": 2,
      "outputs": []
    },
    {
      "cell_type": "markdown",
      "metadata": {
        "id": "hMPAn1SRd32f"
      },
      "source": [
        "# Saving and loading\n",
        "\n",
        "Saving and loading stable-baselines models is straightforward: you can directly call `.save()` and `.load()` on the models."
      ]
    },
    {
      "cell_type": "code",
      "metadata": {
        "id": "vBNFnN4Gd32g",
        "colab": {
          "base_uri": "https://localhost:8080/"
        },
        "outputId": "31d50a49-ad84-47e7-da3f-ee6442835259"
      },
      "source": [
        "import os\n",
        "\n",
        "# Create save dir\n",
        "save_dir = \"/tmp/gym/\"\n",
        "os.makedirs(save_dir, exist_ok=True)\n",
        "\n",
        "model = PPO('MlpPolicy', 'Pendulum-v1', verbose=0).learn(8000)\n",
        "# The model will be saved under PPO_tutorial.zip\n",
        "model.save(save_dir + \"/PPO_tutorial\")\n",
        "\n",
        "# sample an observation from the environment\n",
        "obs = model.env.observation_space.sample()\n",
        "\n",
        "# Check prediction before saving\n",
        "print(\"pre saved\", model.predict(obs, deterministic=True))\n",
        "\n",
        "del model # delete trained model to demonstrate loading\n",
        "\n",
        "loaded_model = PPO.load(save_dir + \"/PPO_tutorial\")\n",
        "# Check that the prediction is the same after loading (for the same observation)\n",
        "print(\"loaded\", loaded_model.predict(obs, deterministic=True))"
      ],
      "execution_count": 3,
      "outputs": [
        {
          "output_type": "stream",
          "name": "stdout",
          "text": [
            "pre saved (array([0.05515357], dtype=float32), None)\n",
            "loaded (array([0.05515357], dtype=float32), None)\n"
          ]
        }
      ]
    },
    {
      "cell_type": "markdown",
      "metadata": {
        "id": "gXWPrVqId32o"
      },
      "source": [
        "Saving in stable-baselines is quite powerful, as you save the training hyperparameters, with the current weights. This means in practice, you can simply load a custom model, without redefining the parameters, and continue learning.\n",
        "\n",
        "The loading function can also update the model's class variables when loading."
      ]
    },
    {
      "cell_type": "code",
      "metadata": {
        "id": "LCtxrAbXd32q",
        "colab": {
          "base_uri": "https://localhost:8080/"
        },
        "outputId": "16799ee5-b52c-47c0-81a1-66ea15bf3675"
      },
      "source": [
        "import os\n",
        "from stable_baselines3.common.vec_env import DummyVecEnv\n",
        "\n",
        "# Create save dir\n",
        "save_dir = \"/tmp/gym/\"\n",
        "os.makedirs(save_dir, exist_ok=True)\n",
        "\n",
        "model = A2C('MlpPolicy', 'Pendulum-v1', verbose=0, gamma=0.9, n_steps=20).learn(8000)\n",
        "# The model will be saved under A2C_tutorial.zip\n",
        "model.save(save_dir + \"/A2C_tutorial\")\n",
        "\n",
        "del model # delete trained model to demonstrate loading\n",
        "\n",
        "# load the model, and when loading set verbose to 1\n",
        "loaded_model = A2C.load(save_dir + \"/A2C_tutorial\", verbose=1)\n",
        "\n",
        "# show the save hyperparameters\n",
        "print(\"loaded:\", \"gamma =\", loaded_model.gamma, \"n_steps =\", loaded_model.n_steps)\n",
        "\n",
        "# as the environment is not serializable, we need to set a new instance of the environment\n",
        "loaded_model.set_env(DummyVecEnv([lambda: gym.make('Pendulum-v1')]))\n",
        "# and continue training\n",
        "loaded_model.learn(8000)"
      ],
      "execution_count": 4,
      "outputs": [
        {
          "output_type": "stream",
          "name": "stdout",
          "text": [
            "loaded: gamma = 0.9 n_steps = 20\n",
            "------------------------------------\n",
            "| time/                 |          |\n",
            "|    fps                | 1049     |\n",
            "|    iterations         | 100      |\n",
            "|    time_elapsed       | 1        |\n",
            "|    total_timesteps    | 2000     |\n",
            "| train/                |          |\n",
            "|    entropy_loss       | -1.41    |\n",
            "|    explained_variance | 0.0068   |\n",
            "|    learning_rate      | 0.0007   |\n",
            "|    n_updates          | 499      |\n",
            "|    policy_loss        | -46.8    |\n",
            "|    std                | 0.992    |\n",
            "|    value_loss         | 1.24e+03 |\n",
            "------------------------------------\n",
            "------------------------------------\n",
            "| time/                 |          |\n",
            "|    fps                | 1072     |\n",
            "|    iterations         | 200      |\n",
            "|    time_elapsed       | 3        |\n",
            "|    total_timesteps    | 4000     |\n",
            "| train/                |          |\n",
            "|    entropy_loss       | -1.41    |\n",
            "|    explained_variance | 0.000812 |\n",
            "|    learning_rate      | 0.0007   |\n",
            "|    n_updates          | 599      |\n",
            "|    policy_loss        | -41      |\n",
            "|    std                | 0.996    |\n",
            "|    value_loss         | 1.15e+03 |\n",
            "------------------------------------\n",
            "------------------------------------\n",
            "| time/                 |          |\n",
            "|    fps                | 1061     |\n",
            "|    iterations         | 300      |\n",
            "|    time_elapsed       | 5        |\n",
            "|    total_timesteps    | 6000     |\n",
            "| train/                |          |\n",
            "|    entropy_loss       | -1.42    |\n",
            "|    explained_variance | 0.000935 |\n",
            "|    learning_rate      | 0.0007   |\n",
            "|    n_updates          | 699      |\n",
            "|    policy_loss        | -47.1    |\n",
            "|    std                | 1        |\n",
            "|    value_loss         | 995      |\n",
            "------------------------------------\n",
            "------------------------------------\n",
            "| time/                 |          |\n",
            "|    fps                | 1072     |\n",
            "|    iterations         | 400      |\n",
            "|    time_elapsed       | 7        |\n",
            "|    total_timesteps    | 8000     |\n",
            "| train/                |          |\n",
            "|    entropy_loss       | -1.43    |\n",
            "|    explained_variance | 0.000464 |\n",
            "|    learning_rate      | 0.0007   |\n",
            "|    n_updates          | 799      |\n",
            "|    policy_loss        | -39.3    |\n",
            "|    std                | 1.02     |\n",
            "|    value_loss         | 861      |\n",
            "------------------------------------\n"
          ]
        },
        {
          "output_type": "execute_result",
          "data": {
            "text/plain": [
              "<stable_baselines3.a2c.a2c.A2C at 0x7f8c3371fc50>"
            ]
          },
          "metadata": {},
          "execution_count": 4
        }
      ]
    },
    {
      "cell_type": "markdown",
      "metadata": {
        "id": "hKwupU-Jgxjm"
      },
      "source": [
        "# Gym and VecEnv wrappers"
      ]
    },
    {
      "cell_type": "markdown",
      "metadata": {
        "id": "ds4AAfmISQIA"
      },
      "source": [
        "## Anatomy of a gym wrapper"
      ]
    },
    {
      "cell_type": "markdown",
      "metadata": {
        "id": "gnTS9e9hTzZZ"
      },
      "source": [
        "A gym wrapper follows the [gym](https://stable-baselines.readthedocs.io/en/master/guide/custom_env.html) interface: it has a `reset()` and `step()` method.\n",
        "\n",
        "Because a wrapper is *around* an environment, we can access it with `self.env`, this allow to easily interact with it without modifying the original env.\n",
        "There are many wrappers that have been predefined, for a complete list refer to [gym documentation](https://github.com/openai/gym/tree/master/gym/wrappers)"
      ]
    },
    {
      "cell_type": "code",
      "metadata": {
        "id": "hYo0C0TQSL3c"
      },
      "source": [
        "class CustomWrapper(gym.Wrapper):\n",
        "  \"\"\"\n",
        "  :param env: (gym.Env) Gym environment that will be wrapped\n",
        "  \"\"\"\n",
        "  def __init__(self, env):\n",
        "    # Call the parent constructor, so we can access self.env later\n",
        "    super(CustomWrapper, self).__init__(env)\n",
        "  \n",
        "  def reset(self):\n",
        "    \"\"\"\n",
        "    Reset the environment \n",
        "    \"\"\"\n",
        "    obs = self.env.reset()\n",
        "    return obs\n",
        "\n",
        "  def step(self, action):\n",
        "    \"\"\"\n",
        "    :param action: ([float] or int) Action taken by the agent\n",
        "    :return: (np.ndarray, float, bool, dict) observation, reward, is the episode over?, additional informations\n",
        "    \"\"\"\n",
        "    obs, reward, done, info = self.env.step(action)\n",
        "    return obs, reward, done, info\n"
      ],
      "execution_count": 5,
      "outputs": []
    },
    {
      "cell_type": "markdown",
      "metadata": {
        "id": "4zeGuyICUN26"
      },
      "source": [
        "## First example: limit the episode length\n",
        "\n",
        "One practical use case of a wrapper is when you want to limit the number of steps by episode, for that you will need to overwrite the `done` signal when the limit is reached. It is also a good practice to pass that information in the `info` dictionnary."
      ]
    },
    {
      "cell_type": "code",
      "metadata": {
        "id": "Eb2U4_K6SNUx"
      },
      "source": [
        "class TimeLimitWrapper(gym.Wrapper):\n",
        "  \"\"\"\n",
        "  :param env: (gym.Env) Gym environment that will be wrapped\n",
        "  :param max_steps: (int) Max number of steps per episode\n",
        "  \"\"\"\n",
        "  def __init__(self, env, max_steps=100):\n",
        "    # Call the parent constructor, so we can access self.env later\n",
        "    super(TimeLimitWrapper, self).__init__(env)\n",
        "    self.max_steps = max_steps\n",
        "    # Counter of steps per episode\n",
        "    self.current_step = 0\n",
        "  \n",
        "  def reset(self):\n",
        "    \"\"\"\n",
        "    Reset the environment \n",
        "    \"\"\"\n",
        "    # Reset the counter\n",
        "    self.current_step = 0\n",
        "    return self.env.reset()\n",
        "\n",
        "  def step(self, action):\n",
        "    \"\"\"\n",
        "    :param action: ([float] or int) Action taken by the agent\n",
        "    :return: (np.ndarray, float, bool, dict) observation, reward, is the episode over?, additional informations\n",
        "    \"\"\"\n",
        "    self.current_step += 1\n",
        "    obs, reward, done, info = self.env.step(action)\n",
        "    # Overwrite the done signal when \n",
        "    if self.current_step >= self.max_steps:\n",
        "      done = True\n",
        "      # Update the info dict to signal that the limit was exceeded\n",
        "      info['time_limit_reached'] = True\n",
        "    return obs, reward, done, info\n"
      ],
      "execution_count": 6,
      "outputs": []
    },
    {
      "cell_type": "markdown",
      "metadata": {
        "id": "oZufaUJwVM9w"
      },
      "source": [
        "#### Test the wrapper"
      ]
    },
    {
      "cell_type": "code",
      "metadata": {
        "id": "szZ43D5PVB07"
      },
      "source": [
        "from gym.envs.classic_control.pendulum import PendulumEnv\n",
        "\n",
        "# Here we create the environment directly because gym.make() already wrap the environement in a TimeLimit wrapper otherwise\n",
        "env = PendulumEnv()\n",
        "# Wrap the environment\n",
        "env = TimeLimitWrapper(env, max_steps=100)"
      ],
      "execution_count": 7,
      "outputs": []
    },
    {
      "cell_type": "code",
      "metadata": {
        "id": "cencka9iVg9V",
        "colab": {
          "base_uri": "https://localhost:8080/"
        },
        "outputId": "5161d609-fe63-44a3-e328-33536e18028c"
      },
      "source": [
        "obs = env.reset()\n",
        "done = False\n",
        "n_steps = 0\n",
        "while not done:\n",
        "  # Take random actions\n",
        "  random_action = env.action_space.sample()\n",
        "  obs, reward, done, info = env.step(random_action)\n",
        "  n_steps += 1\n",
        "\n",
        "print(n_steps, info)"
      ],
      "execution_count": 8,
      "outputs": [
        {
          "output_type": "stream",
          "name": "stdout",
          "text": [
            "100 {'time_limit_reached': True}\n"
          ]
        }
      ]
    },
    {
      "cell_type": "markdown",
      "metadata": {
        "id": "jkMYA63sV9aA"
      },
      "source": [
        "In practice, `gym` already have a wrapper for that named `TimeLimit` (`gym.wrappers.TimeLimit`) that is used by most environments."
      ]
    },
    {
      "cell_type": "markdown",
      "metadata": {
        "id": "VIIJbSyQW9R-"
      },
      "source": [
        "## Second example: normalize actions\n",
        "\n",
        "It is usually a good idea to normalize observations and actions before giving it to the agent, this prevent [hard to debug issue](https://github.com/hill-a/stable-baselines/issues/473).\n",
        "\n",
        "In this example, we are going to normalize the action space of *Pendulum-v1* so it lies in [-1, 1] instead of [-2, 2].\n",
        "\n",
        "Note: here we are dealing with continuous actions, hence the `gym.Box` space"
      ]
    },
    {
      "cell_type": "code",
      "metadata": {
        "id": "F5E6kZfzW8vy"
      },
      "source": [
        "import numpy as np\n",
        "\n",
        "class NormalizeActionWrapper(gym.Wrapper):\n",
        "  \"\"\"\n",
        "  :param env: (gym.Env) Gym environment that will be wrapped\n",
        "  \"\"\"\n",
        "  def __init__(self, env):\n",
        "    # Retrieve the action space\n",
        "    action_space = env.action_space\n",
        "    assert isinstance(action_space, gym.spaces.Box), \"This wrapper only works with continuous action space (spaces.Box)\"\n",
        "    # Retrieve the max/min values\n",
        "    self.low, self.high = action_space.low, action_space.high\n",
        "\n",
        "    # We modify the action space, so all actions will lie in [-1, 1]\n",
        "    env.action_space = gym.spaces.Box(low=-1, high=1, shape=action_space.shape, dtype=np.float32)\n",
        "\n",
        "    # Call the parent constructor, so we can access self.env later\n",
        "    super(NormalizeActionWrapper, self).__init__(env)\n",
        "  \n",
        "  def rescale_action(self, scaled_action):\n",
        "      \"\"\"\n",
        "      Rescale the action from [-1, 1] to [low, high]\n",
        "      (no need for symmetric action space)\n",
        "      :param scaled_action: (np.ndarray)\n",
        "      :return: (np.ndarray)\n",
        "      \"\"\"\n",
        "      return self.low + (0.5 * (scaled_action + 1.0) * (self.high -  self.low))\n",
        "\n",
        "  def reset(self):\n",
        "    \"\"\"\n",
        "    Reset the environment \n",
        "    \"\"\"\n",
        "    # Reset the counter\n",
        "    return self.env.reset()\n",
        "\n",
        "  def step(self, action):\n",
        "    \"\"\"\n",
        "    :param action: ([float] or int) Action taken by the agent\n",
        "    :return: (np.ndarray, float, bool, dict) observation, reward, is the episode over?, additional informations\n",
        "    \"\"\"\n",
        "    # Rescale action from [-1, 1] to original [low, high] interval\n",
        "    rescaled_action = self.rescale_action(action)\n",
        "    obs, reward, done, info = self.env.step(rescaled_action)\n",
        "    return obs, reward, done, info\n"
      ],
      "execution_count": 9,
      "outputs": []
    },
    {
      "cell_type": "markdown",
      "metadata": {
        "id": "TmJ0eahNaR6K"
      },
      "source": [
        "#### Test before rescaling actions"
      ]
    },
    {
      "cell_type": "code",
      "metadata": {
        "id": "UEnjBwisaQIx",
        "colab": {
          "base_uri": "https://localhost:8080/"
        },
        "outputId": "be5d24ab-5a80-4d58-e3a6-f81b54f82db3"
      },
      "source": [
        "original_env = gym.make(\"Pendulum-v1\")\n",
        "\n",
        "print(original_env.action_space.low)\n",
        "for _ in range(10):\n",
        "  print(original_env.action_space.sample())"
      ],
      "execution_count": 10,
      "outputs": [
        {
          "output_type": "stream",
          "name": "stdout",
          "text": [
            "[-2.]\n",
            "[-1.9154297]\n",
            "[-1.7232043]\n",
            "[-0.7122295]\n",
            "[0.436675]\n",
            "[1.6559848]\n",
            "[1.636986]\n",
            "[-0.8109372]\n",
            "[-0.07544173]\n",
            "[0.78383803]\n",
            "[0.09587399]\n"
          ]
        }
      ]
    },
    {
      "cell_type": "markdown",
      "metadata": {
        "id": "jvcll2L3afVd"
      },
      "source": [
        "#### Test the NormalizeAction wrapper"
      ]
    },
    {
      "cell_type": "code",
      "metadata": {
        "id": "WsCM9AUGaeBN",
        "colab": {
          "base_uri": "https://localhost:8080/"
        },
        "outputId": "30c99540-b165-4041-978c-ee1d4f91b9d8"
      },
      "source": [
        "env = NormalizeActionWrapper(gym.make(\"Pendulum-v1\"))\n",
        "\n",
        "print(env.action_space.low)\n",
        "\n",
        "for _ in range(10):\n",
        "  print(env.action_space.sample())"
      ],
      "execution_count": 11,
      "outputs": [
        {
          "output_type": "stream",
          "name": "stdout",
          "text": [
            "[-1.]\n",
            "[0.9313825]\n",
            "[0.5631526]\n",
            "[0.99783015]\n",
            "[0.6862912]\n",
            "[-0.40719882]\n",
            "[0.68363893]\n",
            "[-0.5099308]\n",
            "[-0.9341956]\n",
            "[0.7337334]\n",
            "[-0.276008]\n"
          ]
        }
      ]
    },
    {
      "cell_type": "markdown",
      "metadata": {
        "id": "V5h5kk2mbGNs"
      },
      "source": [
        "#### Test with a RL algorithm\n",
        "\n",
        "We are going to use the Monitor wrapper of stable baselines, wich allow to monitor training stats (mean episode reward, mean episode length)"
      ]
    },
    {
      "cell_type": "code",
      "metadata": {
        "id": "R9FNCN8ybOVU"
      },
      "source": [
        "from stable_baselines3.common.monitor import Monitor\n",
        "from stable_baselines3.common.vec_env import DummyVecEnv"
      ],
      "execution_count": 12,
      "outputs": []
    },
    {
      "cell_type": "code",
      "metadata": {
        "id": "wutM3c1GbfGP"
      },
      "source": [
        "env = Monitor(gym.make('Pendulum-v1'))\n",
        "env = DummyVecEnv([lambda: env])"
      ],
      "execution_count": 13,
      "outputs": []
    },
    {
      "cell_type": "code",
      "metadata": {
        "id": "8cxnE5bdaQ_3",
        "colab": {
          "base_uri": "https://localhost:8080/"
        },
        "outputId": "e7f1c641-e918-44cb-d942-e84e94e011de"
      },
      "source": [
        "model = A2C(\"MlpPolicy\", env, verbose=1).learn(int(1000))"
      ],
      "execution_count": 14,
      "outputs": [
        {
          "output_type": "stream",
          "name": "stdout",
          "text": [
            "Using cpu device\n",
            "------------------------------------\n",
            "| rollout/              |          |\n",
            "|    ep_len_mean        | 200      |\n",
            "|    ep_rew_mean        | -946     |\n",
            "| time/                 |          |\n",
            "|    fps                | 610      |\n",
            "|    iterations         | 100      |\n",
            "|    time_elapsed       | 0        |\n",
            "|    total_timesteps    | 500      |\n",
            "| train/                |          |\n",
            "|    entropy_loss       | -1.47    |\n",
            "|    explained_variance | 0.102    |\n",
            "|    learning_rate      | 0.0007   |\n",
            "|    n_updates          | 99       |\n",
            "|    policy_loss        | -28      |\n",
            "|    std                | 1.05     |\n",
            "|    value_loss         | 723      |\n",
            "------------------------------------\n",
            "-------------------------------------\n",
            "| rollout/              |           |\n",
            "|    ep_len_mean        | 200       |\n",
            "|    ep_rew_mean        | -1.06e+03 |\n",
            "| time/                 |           |\n",
            "|    fps                | 638       |\n",
            "|    iterations         | 200       |\n",
            "|    time_elapsed       | 1         |\n",
            "|    total_timesteps    | 1000      |\n",
            "| train/                |           |\n",
            "|    entropy_loss       | -1.47     |\n",
            "|    explained_variance | -0.457    |\n",
            "|    learning_rate      | 0.0007    |\n",
            "|    n_updates          | 199       |\n",
            "|    policy_loss        | -23.9     |\n",
            "|    std                | 1.05      |\n",
            "|    value_loss         | 649       |\n",
            "-------------------------------------\n"
          ]
        }
      ]
    },
    {
      "cell_type": "markdown",
      "metadata": {
        "id": "EJFSM-Drb3Wc"
      },
      "source": [
        "With the action wrapper"
      ]
    },
    {
      "cell_type": "code",
      "metadata": {
        "id": "GszFZthob2wM"
      },
      "source": [
        "normalized_env = Monitor(gym.make('Pendulum-v1'))\n",
        "# Note that we can use multiple wrappers\n",
        "normalized_env = NormalizeActionWrapper(normalized_env)\n",
        "normalized_env = DummyVecEnv([lambda: normalized_env])"
      ],
      "execution_count": 15,
      "outputs": []
    },
    {
      "cell_type": "code",
      "metadata": {
        "id": "wrKJEO4NcIMd",
        "colab": {
          "base_uri": "https://localhost:8080/"
        },
        "outputId": "43b99e42-7e31-4ac2-ce76-cde9d1302e20"
      },
      "source": [
        "model_2 = A2C(\"MlpPolicy\", normalized_env, verbose=1).learn(int(1000))"
      ],
      "execution_count": 16,
      "outputs": [
        {
          "output_type": "stream",
          "name": "stdout",
          "text": [
            "Using cpu device\n",
            "------------------------------------\n",
            "| rollout/              |          |\n",
            "|    ep_len_mean        | 200      |\n",
            "|    ep_rew_mean        | -1.6e+03 |\n",
            "| time/                 |          |\n",
            "|    fps                | 657      |\n",
            "|    iterations         | 100      |\n",
            "|    time_elapsed       | 0        |\n",
            "|    total_timesteps    | 500      |\n",
            "| train/                |          |\n",
            "|    entropy_loss       | -1.43    |\n",
            "|    explained_variance | 0.00429  |\n",
            "|    learning_rate      | 0.0007   |\n",
            "|    n_updates          | 99       |\n",
            "|    policy_loss        | -41.9    |\n",
            "|    std                | 1.01     |\n",
            "|    value_loss         | 974      |\n",
            "------------------------------------\n",
            "-------------------------------------\n",
            "| rollout/              |           |\n",
            "|    ep_len_mean        | 200       |\n",
            "|    ep_rew_mean        | -1.66e+03 |\n",
            "| time/                 |           |\n",
            "|    fps                | 674       |\n",
            "|    iterations         | 200       |\n",
            "|    time_elapsed       | 1         |\n",
            "|    total_timesteps    | 1000      |\n",
            "| train/                |           |\n",
            "|    entropy_loss       | -1.43     |\n",
            "|    explained_variance | -0.000184 |\n",
            "|    learning_rate      | 0.0007    |\n",
            "|    n_updates          | 199       |\n",
            "|    policy_loss        | -30.5     |\n",
            "|    std                | 1.01      |\n",
            "|    value_loss         | 950       |\n",
            "-------------------------------------\n"
          ]
        }
      ]
    },
    {
      "cell_type": "markdown",
      "metadata": {
        "id": "5BxqXd_6dpJx"
      },
      "source": [
        "## Additional wrappers: VecEnvWrappers\n",
        "\n",
        "In the same vein as gym wrappers, stable baselines provide wrappers for `VecEnv`. Among the different that exist (and you can create your own), you should know: \n",
        "\n",
        "- VecNormalize: it computes a running mean and standard deviation to normalize observation and returns\n",
        "- VecFrameStack: it stacks several consecutive observations (useful to integrate time in the observation, e.g. sucessive frame of an atari game)\n",
        "\n",
        "More info in the [documentation](https://stable-baselines3.readthedocs.io/en/master/guide/vec_envs.html#wrappers)\n",
        "\n",
        "Note: when using `VecNormalize` wrapper, you must save the running mean and std along with the model, otherwise you will not get proper results when loading the agent again. If you use the [rl zoo](https://github.com/DLR-RM/rl-baselines3-zoo), this is done automatically"
      ]
    },
    {
      "cell_type": "code",
      "metadata": {
        "id": "zuIcbfv3g9dd"
      },
      "source": [
        "from stable_baselines3.common.vec_env import VecNormalize, VecFrameStack\n",
        "\n",
        "env = DummyVecEnv([lambda: gym.make(\"Pendulum-v1\")])\n",
        "normalized_vec_env = VecNormalize(env)"
      ],
      "execution_count": 17,
      "outputs": []
    },
    {
      "cell_type": "code",
      "metadata": {
        "id": "-PAbu21pg90A",
        "colab": {
          "base_uri": "https://localhost:8080/"
        },
        "outputId": "f57ac5a3-4fb9-426d-c2ac-225e3440fde7"
      },
      "source": [
        "obs = normalized_vec_env.reset()\n",
        "for _ in range(10):\n",
        "  action = [normalized_vec_env.action_space.sample()]\n",
        "  obs, reward, _, _ = normalized_vec_env.step(action)\n",
        "  print(obs, reward)"
      ],
      "execution_count": 18,
      "outputs": [
        {
          "output_type": "stream",
          "name": "stdout",
          "text": [
            "[[ 0.6071935   0.9022107  -0.88894784]] [-10.]\n",
            "[[ 0.79095507  1.0205942  -1.4086909 ]] [-2.0188215]\n",
            "[[ 0.8496975  1.0344025 -1.2765964]] [-1.0761292]\n",
            "[[ 0.5217893   0.61080873 -1.5830258 ]] [-0.77320206]\n",
            "[[ 0.14615369  0.14742945 -1.2945191 ]] [-0.6675101]\n",
            "[[-0.9938032 -1.1440423 -1.6846551]] [-0.598324]\n",
            "[[-2.1111434 -2.1401775 -1.9061867]] [-0.7035669]\n",
            "[[-2.4099388 -2.3373868 -1.8600202]] [-0.931993]\n",
            "[[-2.450697  -2.311225  -1.7215986]] [-1.0482452]\n",
            "[[-2.462088  -2.253743  -1.6691934]] [-1.0173353]\n"
          ]
        }
      ]
    },
    {
      "cell_type": "markdown",
      "metadata": {
        "id": "UEpTys28Wz05"
      },
      "source": [
        "## Exercise: code you own monitor wrapper\n",
        "\n",
        "Now that you know how does a wrapper work and what you can do with it, it's time to experiment.\n",
        "\n",
        "The goal here is to create a wrapper that will monitor the training progress, storing both the episode reward (sum of reward for one episode) and episode length (number of steps in for the last episode).\n",
        "\n",
        "You will return those values using the `info` dict after each end of episode."
      ]
    },
    {
      "cell_type": "code",
      "metadata": {
        "id": "8FWeDRd5W7hO",
        "colab": {
          "base_uri": "https://localhost:8080/",
          "height": 130
        },
        "outputId": "a717b88a-5f6d-481c-ca7e-0dfae722c4c4"
      },
      "source": [
        "class MyMonitorWrapper(gym.Wrapper):\n",
        "  \"\"\"\n",
        "  :param env: (gym.Env) Gym environment that will be wrapped\n",
        "  \"\"\"\n",
        "  def __init__(self, env):\n",
        "    # Call the parent constructor, so we can access self.env later\n",
        "    super(MyMonitorWrapper, self).__init__(env)\n",
        "    # === YOUR CODE HERE ===#\n",
        "    # Initialize the variables that will be used\n",
        "    # to store the episode length and episode reward\n",
        "\n",
        "    # ====================== #\n",
        "  \n",
        "  def reset(self):\n",
        "    \"\"\"\n",
        "    Reset the environment \n",
        "    \"\"\"\n",
        "    obs = self.env.reset()\n",
        "    # === YOUR CODE HERE ===#\n",
        "    # Reset the variables\n",
        "\n",
        "    # ====================== #\n",
        "    return obs\n",
        "\n",
        "  def step(self, action):\n",
        "    \"\"\"\n",
        "    :param action: ([float] or int) Action taken by the agent\n",
        "    :return: (np.ndarray, float, bool, dict) observation, reward, is the episode over?, additional informations\n",
        "    \"\"\"\n",
        "    obs, reward, done, info = self.env.step(action)\n",
        "    # === YOUR CODE HERE ===#\n",
        "    # Update the current episode reward and episode length\n",
        "\n",
        "    # ====================== #\n",
        "\n",
        "    if done:\n",
        "      # === YOUR CODE HERE ===#\n",
        "      # Store the episode length and episode reward in the info dict\n",
        "\n",
        "      # ====================== #\n",
        "    return obs, reward, done, info"
      ],
      "execution_count": 20,
      "outputs": [
        {
          "output_type": "error",
          "ename": "IndentationError",
          "evalue": "ignored",
          "traceback": [
            "\u001b[0;36m  File \u001b[0;32m\"<ipython-input-20-3bd045f513d2>\"\u001b[0;36m, line \u001b[0;32m41\u001b[0m\n\u001b[0;31m    return obs, reward, done, info\u001b[0m\n\u001b[0m         ^\u001b[0m\n\u001b[0;31mIndentationError\u001b[0m\u001b[0;31m:\u001b[0m expected an indented block\n"
          ]
        }
      ]
    },
    {
      "cell_type": "markdown",
      "metadata": {
        "id": "d4fY4QwWXNFK"
      },
      "source": [
        "#### Test your wrapper"
      ]
    },
    {
      "cell_type": "code",
      "metadata": {
        "id": "bJbUG-A_liYt"
      },
      "source": [
        "# To use LunarLander, you need to install box2d box2d-kengz (pip) and swig (apt-get)\n",
        "!pip install box2d box2d-kengz"
      ],
      "execution_count": null,
      "outputs": []
    },
    {
      "cell_type": "code",
      "metadata": {
        "id": "oWZp1olSXMUg"
      },
      "source": [
        "env = gym.make(\"LunarLander-v2\")\n",
        "# === YOUR CODE HERE ===#\n",
        "# Wrap the environment\n",
        "\n",
        "# Reset the environment\n",
        "\n",
        "# Take random actions in the enviromnent and check\n",
        "# that it returns the correct values after the end of each episode\n",
        "\n",
        "# ====================== #"
      ],
      "execution_count": null,
      "outputs": []
    },
    {
      "cell_type": "markdown",
      "metadata": {
        "id": "dJ2IqSM2eOt8"
      },
      "source": [
        " # Conclusion\n",
        " \n",
        " In this notebook, we have seen:\n",
        " - how to easily save and load a model\n",
        " - what is wrapper and what we can do with it\n",
        " - how to create your own wrapper"
      ]
    },
    {
      "cell_type": "markdown",
      "metadata": {
        "id": "qhWB_bHpSkas"
      },
      "source": [
        "## Wrapper Bonus: changing the observation space: a wrapper for episode of fixed length"
      ]
    },
    {
      "cell_type": "code",
      "metadata": {
        "id": "bBlS9YxYSpJn"
      },
      "source": [
        "from gym.wrappers import TimeLimit\n",
        "\n",
        "class TimeFeatureWrapper(gym.Wrapper):\n",
        "    \"\"\"\n",
        "    Add remaining time to observation space for fixed length episodes.\n",
        "    See https://arxiv.org/abs/1712.00378 and https://github.com/aravindr93/mjrl/issues/13.\n",
        "\n",
        "    :param env: (gym.Env)\n",
        "    :param max_steps: (int) Max number of steps of an episode\n",
        "        if it is not wrapped in a TimeLimit object.\n",
        "    :param test_mode: (bool) In test mode, the time feature is constant,\n",
        "        equal to zero. This allow to check that the agent did not overfit this feature,\n",
        "        learning a deterministic pre-defined sequence of actions.\n",
        "    \"\"\"\n",
        "    def __init__(self, env, max_steps=1000, test_mode=False):\n",
        "        assert isinstance(env.observation_space, gym.spaces.Box)\n",
        "        # Add a time feature to the observation\n",
        "        low, high = env.observation_space.low, env.observation_space.high\n",
        "        low, high= np.concatenate((low, [0])), np.concatenate((high, [1.]))\n",
        "        env.observation_space = gym.spaces.Box(low=low, high=high, dtype=np.float32)\n",
        "\n",
        "        super(TimeFeatureWrapper, self).__init__(env)\n",
        "\n",
        "        if isinstance(env, TimeLimit):\n",
        "            self._max_steps = env._max_episode_steps\n",
        "        else:\n",
        "            self._max_steps = max_steps\n",
        "        self._current_step = 0\n",
        "        self._test_mode = test_mode\n",
        "\n",
        "    def reset(self):\n",
        "        self._current_step = 0\n",
        "        return self._get_obs(self.env.reset())\n",
        "\n",
        "    def step(self, action):\n",
        "        self._current_step += 1\n",
        "        obs, reward, done, info = self.env.step(action)\n",
        "        return self._get_obs(obs), reward, done, info\n",
        "\n",
        "    def _get_obs(self, obs):\n",
        "        \"\"\"\n",
        "        Concatenate the time feature to the current observation.\n",
        "\n",
        "        :param obs: (np.ndarray)\n",
        "        :return: (np.ndarray)\n",
        "        \"\"\"\n",
        "        # Remaining time is more general\n",
        "        time_feature = 1 - (self._current_step / self._max_steps)\n",
        "        if self._test_mode:\n",
        "            time_feature = 1.0\n",
        "        # Optionnaly: concatenate [time_feature, time_feature ** 2]\n",
        "        return np.concatenate((obs, [time_feature]))"
      ],
      "execution_count": null,
      "outputs": []
    },
    {
      "cell_type": "code",
      "metadata": {
        "id": "z-vWgkZzd4F1"
      },
      "source": [],
      "execution_count": null,
      "outputs": []
    },
    {
      "cell_type": "markdown",
      "metadata": {
        "id": "Ojn4nvNNRUoT"
      },
      "source": [
        "## Going further - Saving format \n",
        "\n",
        "The format for saving and loading models is a zip-archived JSON dump and NumPy zip archive of the arrays:\n",
        "```\n",
        "saved_model.zip/\n",
        "├── data              JSON file of class-parameters (dictionary)\n",
        "├── parameter_list    JSON file of model parameters and their ordering (list)\n",
        "├── parameters        Bytes from numpy.savez (a zip file of the numpy arrays). ...\n",
        "    ├── ...           Being a zip-archive itself, this object can also be opened ...\n",
        "        ├── ...       as a zip-archive and browsed.\n",
        "```"
      ]
    },
    {
      "cell_type": "markdown",
      "metadata": {
        "id": "QWAcc8RFRUoU"
      },
      "source": [
        "## Save and find "
      ]
    },
    {
      "cell_type": "code",
      "metadata": {
        "id": "4tcQxzSCRUoV"
      },
      "source": [
        "# Create save dir\n",
        "save_dir = \"/tmp/gym/\"\n",
        "os.makedirs(save_dir, exist_ok=True)\n",
        "\n",
        "model = PPO('MlpPolicy', 'Pendulum-v1', verbose=0).learn(8000)\n",
        "model.save(save_dir + \"/PPO_tutorial\")"
      ],
      "execution_count": null,
      "outputs": []
    },
    {
      "cell_type": "code",
      "metadata": {
        "id": "rGaMNz4HRUoX"
      },
      "source": [
        "!ls /tmp/gym/PPO_tutorial*"
      ],
      "execution_count": null,
      "outputs": []
    },
    {
      "cell_type": "code",
      "metadata": {
        "id": "gYY3nQyyRUoa"
      },
      "source": [
        "import zipfile\n",
        "\n",
        "archive = zipfile.ZipFile(\"/tmp/gym/PPO_tutorial.zip\", 'r')\n",
        "for f in archive.filelist:\n",
        "  print(f.filename)"
      ],
      "execution_count": null,
      "outputs": []
    },
    {
      "cell_type": "markdown",
      "metadata": {
        "id": "cPKkkTvjRUo2"
      },
      "source": [
        "## Exporting saved models\n",
        "\n",
        "And finally some futher reading for those who want to export to tensorflowJS or Java.\n",
        "\n",
        "https://stable-baselines.readthedocs.io/en/master/guide/export.html"
      ]
    }
  ]
}