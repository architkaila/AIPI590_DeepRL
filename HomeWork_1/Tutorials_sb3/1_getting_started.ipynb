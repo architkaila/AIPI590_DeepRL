{
  "cells": [
    {
      "cell_type": "markdown",
      "metadata": {
        "id": "hyyN-2qyK_T2"
      },
      "source": [
        "# Stable Baselines3 Tutorial - Getting Started\n",
        "\n",
        "Github repo: https://github.com/araffin/rl-tutorial-jnrr19\n",
        "\n",
        "Stable-Baselines3: https://github.com/DLR-RM/stable-baselines3\n",
        "\n",
        "Documentation: https://stable-baselines.readthedocs.io/en/master/\n",
        "\n",
        "RL Baselines3 zoo: https://github.com/DLR-RM/rl-baselines3-zoo\n",
        "\n",
        "\n",
        "[RL Baselines3 Zoo](https://github.com/DLR-RM/rl-baselines3-zoo) is a collection of pre-trained Reinforcement Learning agents using Stable-Baselines3.\n",
        "\n",
        "It also provides basic scripts for training, evaluating agents, tuning hyperparameters and recording videos.\n",
        "\n",
        "\n",
        "## Introduction\n",
        "\n",
        "In this notebook, you will learn the basics for using stable baselines3 library: how to create a RL model, train it and evaluate it. Because all algorithms share the same interface, we will see how simple it is to switch from one algorithm to another.\n",
        "\n",
        "\n",
        "## Install Dependencies and Stable Baselines3 Using Pip\n",
        "\n",
        "List of full dependencies can be found in the [README](https://github.com/DLR-RM/stable-baselines3).\n",
        "\n",
        "\n",
        "```\n",
        "pip install stable-baselines3[extra]\n",
        "```"
      ]
    },
    {
      "cell_type": "code",
      "execution_count": 18,
      "metadata": {
        "colab": {
          "base_uri": "https://localhost:8080/"
        },
        "id": "gWskDE2c9WoN",
        "outputId": "215bf327-822d-4200-a724-0207cbe6465b"
      },
      "outputs": [
        {
          "name": "stdout",
          "output_type": "stream",
          "text": [
            "Reading package lists... Done\n",
            "Building dependency tree       \n",
            "Reading state information... Done\n",
            "freeglut3-dev is already the newest version (2.8.1-3).\n",
            "ffmpeg is already the newest version (7:3.4.11-0ubuntu0.1).\n",
            "xvfb is already the newest version (2:1.19.6-1ubuntu4.11).\n",
            "The following package was automatically installed and is no longer required:\n",
            "  libnvidia-common-460\n",
            "Use 'apt autoremove' to remove it.\n",
            "0 upgraded, 0 newly installed, 0 to remove and 20 not upgraded.\n",
            "Looking in indexes: https://pypi.org/simple, https://us-python.pkg.dev/colab-wheels/public/simple/\n",
            "Requirement already satisfied: stable-baselines3[extra] in /usr/local/lib/python3.7/dist-packages (1.6.0)\n",
            "Requirement already satisfied: numpy in /usr/local/lib/python3.7/dist-packages (from stable-baselines3[extra]) (1.21.6)\n",
            "Requirement already satisfied: cloudpickle in /usr/local/lib/python3.7/dist-packages (from stable-baselines3[extra]) (1.5.0)\n",
            "Requirement already satisfied: pandas in /usr/local/lib/python3.7/dist-packages (from stable-baselines3[extra]) (1.3.5)\n",
            "Requirement already satisfied: torch>=1.11 in /usr/local/lib/python3.7/dist-packages (from stable-baselines3[extra]) (1.12.1+cu113)\n",
            "Requirement already satisfied: matplotlib in /usr/local/lib/python3.7/dist-packages (from stable-baselines3[extra]) (3.2.2)\n",
            "Requirement already satisfied: gym==0.21 in /usr/local/lib/python3.7/dist-packages (from stable-baselines3[extra]) (0.21.0)\n",
            "Requirement already satisfied: autorom[accept-rom-license]~=0.4.2 in /usr/local/lib/python3.7/dist-packages (from stable-baselines3[extra]) (0.4.2)\n",
            "Requirement already satisfied: psutil in /usr/local/lib/python3.7/dist-packages (from stable-baselines3[extra]) (5.4.8)\n",
            "Requirement already satisfied: opencv-python in /usr/local/lib/python3.7/dist-packages (from stable-baselines3[extra]) (4.6.0.66)\n",
            "Requirement already satisfied: tensorboard>=2.2.0 in /usr/local/lib/python3.7/dist-packages (from stable-baselines3[extra]) (2.8.0)\n",
            "Requirement already satisfied: ale-py==0.7.4 in /usr/local/lib/python3.7/dist-packages (from stable-baselines3[extra]) (0.7.4)\n",
            "Requirement already satisfied: pillow in /usr/local/lib/python3.7/dist-packages (from stable-baselines3[extra]) (7.1.2)\n",
            "Requirement already satisfied: protobuf~=3.19.0 in /usr/local/lib/python3.7/dist-packages (from stable-baselines3[extra]) (3.19.5)\n",
            "Requirement already satisfied: importlib-resources in /usr/local/lib/python3.7/dist-packages (from ale-py==0.7.4->stable-baselines3[extra]) (5.9.0)\n",
            "Requirement already satisfied: importlib-metadata>=4.10.0 in /usr/local/lib/python3.7/dist-packages (from ale-py==0.7.4->stable-baselines3[extra]) (4.12.0)\n",
            "Requirement already satisfied: tqdm in /usr/local/lib/python3.7/dist-packages (from autorom[accept-rom-license]~=0.4.2->stable-baselines3[extra]) (4.64.1)\n",
            "Requirement already satisfied: requests in /usr/local/lib/python3.7/dist-packages (from autorom[accept-rom-license]~=0.4.2->stable-baselines3[extra]) (2.23.0)\n",
            "Requirement already satisfied: click in /usr/local/lib/python3.7/dist-packages (from autorom[accept-rom-license]~=0.4.2->stable-baselines3[extra]) (7.1.2)\n",
            "Requirement already satisfied: AutoROM.accept-rom-license in /usr/local/lib/python3.7/dist-packages (from autorom[accept-rom-license]~=0.4.2->stable-baselines3[extra]) (0.4.2)\n",
            "Requirement already satisfied: typing-extensions>=3.6.4 in /usr/local/lib/python3.7/dist-packages (from importlib-metadata>=4.10.0->ale-py==0.7.4->stable-baselines3[extra]) (4.1.1)\n",
            "Requirement already satisfied: zipp>=0.5 in /usr/local/lib/python3.7/dist-packages (from importlib-metadata>=4.10.0->ale-py==0.7.4->stable-baselines3[extra]) (3.8.1)\n",
            "Requirement already satisfied: absl-py>=0.4 in /usr/local/lib/python3.7/dist-packages (from tensorboard>=2.2.0->stable-baselines3[extra]) (1.2.0)\n",
            "Requirement already satisfied: markdown>=2.6.8 in /usr/local/lib/python3.7/dist-packages (from tensorboard>=2.2.0->stable-baselines3[extra]) (3.4.1)\n",
            "Requirement already satisfied: setuptools>=41.0.0 in /usr/local/lib/python3.7/dist-packages (from tensorboard>=2.2.0->stable-baselines3[extra]) (57.4.0)\n",
            "Requirement already satisfied: tensorboard-plugin-wit>=1.6.0 in /usr/local/lib/python3.7/dist-packages (from tensorboard>=2.2.0->stable-baselines3[extra]) (1.8.1)\n",
            "Requirement already satisfied: wheel>=0.26 in /usr/local/lib/python3.7/dist-packages (from tensorboard>=2.2.0->stable-baselines3[extra]) (0.37.1)\n",
            "Requirement already satisfied: tensorboard-data-server<0.7.0,>=0.6.0 in /usr/local/lib/python3.7/dist-packages (from tensorboard>=2.2.0->stable-baselines3[extra]) (0.6.1)\n",
            "Requirement already satisfied: werkzeug>=0.11.15 in /usr/local/lib/python3.7/dist-packages (from tensorboard>=2.2.0->stable-baselines3[extra]) (1.0.1)\n",
            "Requirement already satisfied: google-auth-oauthlib<0.5,>=0.4.1 in /usr/local/lib/python3.7/dist-packages (from tensorboard>=2.2.0->stable-baselines3[extra]) (0.4.6)\n",
            "Requirement already satisfied: google-auth<3,>=1.6.3 in /usr/local/lib/python3.7/dist-packages (from tensorboard>=2.2.0->stable-baselines3[extra]) (1.35.0)\n",
            "Requirement already satisfied: grpcio>=1.24.3 in /usr/local/lib/python3.7/dist-packages (from tensorboard>=2.2.0->stable-baselines3[extra]) (1.48.1)\n",
            "Requirement already satisfied: six>=1.9.0 in /usr/local/lib/python3.7/dist-packages (from google-auth<3,>=1.6.3->tensorboard>=2.2.0->stable-baselines3[extra]) (1.15.0)\n",
            "Requirement already satisfied: cachetools<5.0,>=2.0.0 in /usr/local/lib/python3.7/dist-packages (from google-auth<3,>=1.6.3->tensorboard>=2.2.0->stable-baselines3[extra]) (4.2.4)\n",
            "Requirement already satisfied: pyasn1-modules>=0.2.1 in /usr/local/lib/python3.7/dist-packages (from google-auth<3,>=1.6.3->tensorboard>=2.2.0->stable-baselines3[extra]) (0.2.8)\n",
            "Requirement already satisfied: rsa<5,>=3.1.4 in /usr/local/lib/python3.7/dist-packages (from google-auth<3,>=1.6.3->tensorboard>=2.2.0->stable-baselines3[extra]) (4.9)\n",
            "Requirement already satisfied: requests-oauthlib>=0.7.0 in /usr/local/lib/python3.7/dist-packages (from google-auth-oauthlib<0.5,>=0.4.1->tensorboard>=2.2.0->stable-baselines3[extra]) (1.3.1)\n",
            "Requirement already satisfied: pyasn1<0.5.0,>=0.4.6 in /usr/local/lib/python3.7/dist-packages (from pyasn1-modules>=0.2.1->google-auth<3,>=1.6.3->tensorboard>=2.2.0->stable-baselines3[extra]) (0.4.8)\n",
            "Requirement already satisfied: chardet<4,>=3.0.2 in /usr/local/lib/python3.7/dist-packages (from requests->autorom[accept-rom-license]~=0.4.2->stable-baselines3[extra]) (3.0.4)\n",
            "Requirement already satisfied: idna<3,>=2.5 in /usr/local/lib/python3.7/dist-packages (from requests->autorom[accept-rom-license]~=0.4.2->stable-baselines3[extra]) (2.10)\n",
            "Requirement already satisfied: certifi>=2017.4.17 in /usr/local/lib/python3.7/dist-packages (from requests->autorom[accept-rom-license]~=0.4.2->stable-baselines3[extra]) (2022.6.15)\n",
            "Requirement already satisfied: urllib3!=1.25.0,!=1.25.1,<1.26,>=1.21.1 in /usr/local/lib/python3.7/dist-packages (from requests->autorom[accept-rom-license]~=0.4.2->stable-baselines3[extra]) (1.24.3)\n",
            "Requirement already satisfied: oauthlib>=3.0.0 in /usr/local/lib/python3.7/dist-packages (from requests-oauthlib>=0.7.0->google-auth-oauthlib<0.5,>=0.4.1->tensorboard>=2.2.0->stable-baselines3[extra]) (3.2.0)\n",
            "Requirement already satisfied: pyparsing!=2.0.4,!=2.1.2,!=2.1.6,>=2.0.1 in /usr/local/lib/python3.7/dist-packages (from matplotlib->stable-baselines3[extra]) (3.0.9)\n",
            "Requirement already satisfied: python-dateutil>=2.1 in /usr/local/lib/python3.7/dist-packages (from matplotlib->stable-baselines3[extra]) (2.8.2)\n",
            "Requirement already satisfied: kiwisolver>=1.0.1 in /usr/local/lib/python3.7/dist-packages (from matplotlib->stable-baselines3[extra]) (1.4.4)\n",
            "Requirement already satisfied: cycler>=0.10 in /usr/local/lib/python3.7/dist-packages (from matplotlib->stable-baselines3[extra]) (0.11.0)\n",
            "Requirement already satisfied: pytz>=2017.3 in /usr/local/lib/python3.7/dist-packages (from pandas->stable-baselines3[extra]) (2022.2.1)\n",
            "Looking in indexes: https://pypi.org/simple, https://us-python.pkg.dev/colab-wheels/public/simple/\n",
            "Collecting pyglet\n",
            "  Downloading pyglet-1.5.27-py3-none-any.whl (1.1 MB)\n",
            "\u001b[K     |████████████████████████████████| 1.1 MB 36.5 MB/s \n",
            "\u001b[?25hInstalling collected packages: pyglet\n",
            "Successfully installed pyglet-1.5.27\n"
          ]
        }
      ],
      "source": [
        "!apt-get install ffmpeg freeglut3-dev xvfb  # For visualization\n",
        "!pip install stable-baselines3[extra]\n",
        "!pip install pyglet"
      ]
    },
    {
      "cell_type": "code",
      "execution_count": 1,
      "metadata": {
        "colab": {
          "base_uri": "https://localhost:8080/",
          "height": 37
        },
        "id": "U29X1-B-AIKE",
        "outputId": "179b6862-581f-4408-9395-662a1ac273b5"
      },
      "outputs": [
        {
          "data": {
            "application/vnd.google.colaboratory.intrinsic+json": {
              "type": "string"
            },
            "text/plain": [
              "'1.6.0'"
            ]
          },
          "execution_count": 1,
          "metadata": {},
          "output_type": "execute_result"
        }
      ],
      "source": [
        "import stable_baselines3\n",
        "stable_baselines3.__version__"
      ]
    },
    {
      "cell_type": "markdown",
      "metadata": {
        "id": "FtY8FhliLsGm"
      },
      "source": [
        "## Imports"
      ]
    },
    {
      "cell_type": "markdown",
      "metadata": {
        "id": "gcX8hEcaUpR0"
      },
      "source": [
        "Stable-Baselines works on environments that follow the [gym interface](https://stable-baselines.readthedocs.io/en/master/guide/custom_env.html).\n",
        "You can find a list of available environment [here](https://gym.openai.com/envs/#classic_control).\n",
        "\n",
        "It is also recommended to check the [source code](https://github.com/openai/gym) to learn more about the observation and action space of each env, as gym does not have a proper documentation.\n",
        "Not all algorithms can work with all action spaces, you can find more in this [recap table](https://stable-baselines.readthedocs.io/en/master/guide/algos.html)"
      ]
    },
    {
      "cell_type": "code",
      "execution_count": 2,
      "metadata": {
        "id": "BIedd7Pz9sOs"
      },
      "outputs": [],
      "source": [
        "import gym\n",
        "import numpy as np"
      ]
    },
    {
      "cell_type": "markdown",
      "metadata": {
        "id": "Ae32CtgzTG3R"
      },
      "source": [
        "The first thing you need to import is the RL model, check the documentation to know what you can use on which problem"
      ]
    },
    {
      "cell_type": "code",
      "execution_count": 3,
      "metadata": {
        "id": "R7tKaBFrTR0a"
      },
      "outputs": [],
      "source": [
        "from stable_baselines3 import PPO"
      ]
    },
    {
      "cell_type": "markdown",
      "metadata": {
        "id": "-0_8OQbOTTNT"
      },
      "source": [
        "The next thing you need to import is the policy class that will be used to create the networks (for the policy/value functions).\n",
        "This step is optional as you can directly use strings in the constructor: \n",
        "\n",
        "```PPO('MlpPolicy', env)``` instead of ```PPO(MlpPolicy, env)```\n",
        "\n",
        "Note that some algorithms like `SAC` have their own `MlpPolicy`, that's why using string for the policy is the recommened option."
      ]
    },
    {
      "cell_type": "code",
      "execution_count": 4,
      "metadata": {
        "id": "ROUJr675TT01"
      },
      "outputs": [],
      "source": [
        "from stable_baselines3.ppo import MlpPolicy"
      ]
    },
    {
      "cell_type": "markdown",
      "metadata": {
        "id": "RapkYvTXL7Cd"
      },
      "source": [
        "## Create the Gym env and instantiate the agent\n",
        "\n",
        "For this example, we will use CartPole environment, a classic control problem.\n",
        "\n",
        "\"A pole is attached by an un-actuated joint to a cart, which moves along a frictionless track. The system is controlled by applying a force of +1 or -1 to the cart. The pendulum starts upright, and the goal is to prevent it from falling over. A reward of +1 is provided for every timestep that the pole remains upright. \"\n",
        "\n",
        "Cartpole environment: [https://gym.openai.com/envs/CartPole-v1/](https://gym.openai.com/envs/CartPole-v1/)\n",
        "\n",
        "![Cartpole](https://cdn-images-1.medium.com/max/1143/1*h4WTQNVIsvMXJTCpXm_TAw.gif)\n",
        "\n",
        "Note: vectorized environments allow to easily multiprocess training. In this example, we are using only one process, hence the DummyVecEnv.\n",
        "\n",
        "We chose the MlpPolicy because input of CartPole is a feature vector, not images.\n",
        "\n",
        "The type of action to use (discrete/continuous) will be automatically deduced from the environment action space\n",
        "\n",
        "\n",
        "Here we are using the [Proximal Policy Optimization](https://stable-baselines.readthedocs.io/en/master/modules/ppo2.html) algorithm, which is an Actor-Critic method: it uses a value function to improve the policy gradient descent (by reducing the variance).\n",
        "\n",
        "It combines ideas from [A2C](https://stable-baselines.readthedocs.io/en/master/modules/a2c.html) (having multiple workers and using an entropy bonus for exploration) and [TRPO](https://stable-baselines.readthedocs.io/en/master/modules/trpo.html) (it uses a trust region to improve stability and avoid catastrophic drops in performance).\n",
        "\n",
        "PPO is an on-policy algorithm, which means that the trajectories used to update the networks must be collected using the latest policy.\n",
        "It is usually less sample efficient than off-policy alorithms like [DQN](https://stable-baselines.readthedocs.io/en/master/modules/dqn.html), [SAC](https://stable-baselines.readthedocs.io/en/master/modules/sac.html) or [TD3](https://stable-baselines.readthedocs.io/en/master/modules/td3.html), but is much faster regarding wall-clock time.\n"
      ]
    },
    {
      "cell_type": "code",
      "execution_count": 6,
      "metadata": {
        "id": "pUWGZp3i9wyf"
      },
      "outputs": [],
      "source": [
        "env = gym.make('CartPole-v1')\n",
        "\n",
        "model = PPO(MlpPolicy, env, verbose=0)"
      ]
    },
    {
      "cell_type": "markdown",
      "metadata": {
        "id": "4efFdrQ7MBvl"
      },
      "source": [
        "We create a helper function to evaluate the agent:"
      ]
    },
    {
      "cell_type": "code",
      "execution_count": 9,
      "metadata": {
        "id": "63M8mSKR-6Zt"
      },
      "outputs": [],
      "source": [
        "def evaluate(model, num_episodes=100, deterministic=True):\n",
        "    \"\"\"\n",
        "    Evaluate a RL agent\n",
        "    :param model: (BaseRLModel object) the RL Agent\n",
        "    :param num_episodes: (int) number of episodes to evaluate it\n",
        "    :return: (float) Mean reward for the last num_episodes\n",
        "    \"\"\"\n",
        "    # This function will only work for a single Environment\n",
        "    env = model.get_env()\n",
        "    all_episode_rewards = []\n",
        "    for i in range(num_episodes):\n",
        "        episode_rewards = []\n",
        "        done = False\n",
        "        obs = env.reset()\n",
        "        while not done:\n",
        "            # _states are only useful when using LSTM policies\n",
        "            action, _states = model.predict(obs, deterministic=deterministic)\n",
        "            # here, action, rewards and dones are arrays\n",
        "            # because we are using vectorized env\n",
        "            obs, reward, done, info = env.step(action)\n",
        "            episode_rewards.append(reward)\n",
        "\n",
        "        all_episode_rewards.append(sum(episode_rewards))\n",
        "\n",
        "    mean_episode_reward = np.mean(all_episode_rewards)\n",
        "    print(\"Mean reward:\", mean_episode_reward, \"Num episodes:\", num_episodes)\n",
        "\n",
        "    return mean_episode_reward"
      ]
    },
    {
      "cell_type": "markdown",
      "metadata": {
        "id": "6hkyafs--gJz"
      },
      "source": [
        "In fact, Stable-Baselines3 already provides you with that helper:"
      ]
    },
    {
      "cell_type": "code",
      "execution_count": 10,
      "metadata": {
        "id": "s6ZNldIR-fce"
      },
      "outputs": [],
      "source": [
        "from stable_baselines3.common.evaluation import evaluate_policy"
      ]
    },
    {
      "cell_type": "markdown",
      "metadata": {
        "id": "zjEVOIY8NVeK"
      },
      "source": [
        "Let's evaluate the un-trained agent, this should be a random agent."
      ]
    },
    {
      "cell_type": "code",
      "execution_count": 11,
      "metadata": {
        "colab": {
          "base_uri": "https://localhost:8080/"
        },
        "id": "xDHLMA6NFk95",
        "outputId": "fa2d7d2b-72f0-4855-e6fd-ca27b5674db9"
      },
      "outputs": [
        {
          "name": "stderr",
          "output_type": "stream",
          "text": [
            "/usr/local/lib/python3.7/dist-packages/stable_baselines3/common/evaluation.py:69: UserWarning: Evaluation environment is not wrapped with a ``Monitor`` wrapper. This may result in reporting modified episode lengths and rewards, if other wrappers happen to modify these. Consider wrapping environment first with ``Monitor`` wrapper.\n",
            "  UserWarning,\n"
          ]
        },
        {
          "name": "stdout",
          "output_type": "stream",
          "text": [
            "mean_reward:8.98 +/- 0.66\n"
          ]
        }
      ],
      "source": [
        "# Use a separate environement for evaluation\n",
        "eval_env = gym.make('CartPole-v1')\n",
        "\n",
        "# Random Agent, before training\n",
        "mean_reward, std_reward = evaluate_policy(model, eval_env, n_eval_episodes=100)\n",
        "\n",
        "print(f\"mean_reward:{mean_reward:.2f} +/- {std_reward:.2f}\")"
      ]
    },
    {
      "cell_type": "markdown",
      "metadata": {
        "id": "r5UoXTZPNdFE"
      },
      "source": [
        "## Train the agent and evaluate it"
      ]
    },
    {
      "cell_type": "code",
      "execution_count": 12,
      "metadata": {
        "colab": {
          "base_uri": "https://localhost:8080/"
        },
        "id": "e4cfSXIB-pTF",
        "outputId": "1db83f32-ddb6-485c-b8e5-933fabd16292"
      },
      "outputs": [
        {
          "data": {
            "text/plain": [
              "<stable_baselines3.ppo.ppo.PPO at 0x7f2e65f0bc10>"
            ]
          },
          "execution_count": 12,
          "metadata": {},
          "output_type": "execute_result"
        }
      ],
      "source": [
        "# Train the agent for 10000 steps\n",
        "model.learn(total_timesteps=10000)"
      ]
    },
    {
      "cell_type": "code",
      "execution_count": 13,
      "metadata": {
        "colab": {
          "base_uri": "https://localhost:8080/"
        },
        "id": "ygl_gVmV_QP7",
        "outputId": "0b054f28-8937-48d3-df0e-68e04314ad5e"
      },
      "outputs": [
        {
          "name": "stdout",
          "output_type": "stream",
          "text": [
            "mean_reward:288.07 +/- 81.55\n"
          ]
        }
      ],
      "source": [
        "# Evaluate the trained agent\n",
        "mean_reward, std_reward = evaluate_policy(model, eval_env, n_eval_episodes=100)\n",
        "\n",
        "print(f\"mean_reward:{mean_reward:.2f} +/- {std_reward:.2f}\")"
      ]
    },
    {
      "cell_type": "markdown",
      "metadata": {
        "id": "A00W6yY3NkHG"
      },
      "source": [
        "Apparently the training went well, the mean reward increased a lot ! "
      ]
    },
    {
      "cell_type": "markdown",
      "metadata": {
        "id": "xVm9QPNVwKXN"
      },
      "source": [
        "### Prepare video recording"
      ]
    },
    {
      "cell_type": "code",
      "execution_count": 14,
      "metadata": {
        "id": "MPyfQxD5z26J"
      },
      "outputs": [],
      "source": [
        "# Set up fake display; otherwise rendering will fail\n",
        "import os\n",
        "os.system(\"Xvfb :1 -screen 0 1024x768x24 &\")\n",
        "os.environ['DISPLAY'] = ':1'"
      ]
    },
    {
      "cell_type": "code",
      "execution_count": 15,
      "metadata": {
        "id": "SLzXxO8VMD6N"
      },
      "outputs": [],
      "source": [
        "import base64\n",
        "from pathlib import Path\n",
        "\n",
        "from IPython import display as ipythondisplay\n",
        "\n",
        "def show_videos(video_path='', prefix=''):\n",
        "  \"\"\"\n",
        "  Taken from https://github.com/eleurent/highway-env\n",
        "\n",
        "  :param video_path: (str) Path to the folder containing videos\n",
        "  :param prefix: (str) Filter the video, showing only the only starting with this prefix\n",
        "  \"\"\"\n",
        "  html = []\n",
        "  for mp4 in Path(video_path).glob(\"{}*.mp4\".format(prefix)):\n",
        "      video_b64 = base64.b64encode(mp4.read_bytes())\n",
        "      html.append('''<video alt=\"{}\" autoplay \n",
        "                    loop controls style=\"height: 400px;\">\n",
        "                    <source src=\"data:video/mp4;base64,{}\" type=\"video/mp4\" />\n",
        "                </video>'''.format(mp4, video_b64.decode('ascii')))\n",
        "  ipythondisplay.display(ipythondisplay.HTML(data=\"<br>\".join(html)))"
      ]
    },
    {
      "cell_type": "markdown",
      "metadata": {
        "id": "LTRNUfulOGaF"
      },
      "source": [
        "We will record a video using the [VecVideoRecorder](https://stable-baselines.readthedocs.io/en/master/guide/vec_envs.html#vecvideorecorder) wrapper, you will learn about those wrapper in the next notebook."
      ]
    },
    {
      "cell_type": "code",
      "execution_count": 16,
      "metadata": {
        "id": "Trag9dQpOIhx"
      },
      "outputs": [],
      "source": [
        "from stable_baselines3.common.vec_env import VecVideoRecorder, DummyVecEnv\n",
        "\n",
        "def record_video(env_id, model, video_length=500, prefix='', video_folder='videos/'):\n",
        "  \"\"\"\n",
        "  :param env_id: (str)\n",
        "  :param model: (RL model)\n",
        "  :param video_length: (int)\n",
        "  :param prefix: (str)\n",
        "  :param video_folder: (str)\n",
        "  \"\"\"\n",
        "  eval_env = DummyVecEnv([lambda: gym.make('CartPole-v1')])\n",
        "  # Start the video at step=0 and record 500 steps\n",
        "  eval_env = VecVideoRecorder(eval_env, video_folder=video_folder,\n",
        "                              record_video_trigger=lambda step: step == 0, video_length=video_length,\n",
        "                              name_prefix=prefix)\n",
        "\n",
        "  obs = eval_env.reset()\n",
        "  for _ in range(video_length):\n",
        "    action, _ = model.predict(obs)\n",
        "    obs, _, _, _ = eval_env.step(action)\n",
        "\n",
        "  # Close the video recorder\n",
        "  eval_env.close()"
      ]
    },
    {
      "cell_type": "markdown",
      "metadata": {
        "id": "KOObbeu5MMlR"
      },
      "source": [
        "### Visualize trained agent\n",
        "\n"
      ]
    },
    {
      "cell_type": "code",
      "execution_count": 19,
      "metadata": {
        "colab": {
          "base_uri": "https://localhost:8080/"
        },
        "id": "iATu7AiyMQW2",
        "outputId": "70ee43d9-7a3f-4eec-c3a7-45910a7a4983"
      },
      "outputs": [
        {
          "name": "stdout",
          "output_type": "stream",
          "text": [
            "Saving video to /content/videos/ppo-cartpole-step-0-to-step-500.mp4\n"
          ]
        }
      ],
      "source": [
        "record_video('CartPole-v1', model, video_length=500, prefix='ppo-cartpole')"
      ]
    },
    {
      "cell_type": "code",
      "execution_count": 20,
      "metadata": {
        "colab": {
          "base_uri": "https://localhost:8080/",
          "height": 421
        },
        "id": "-n4i-fW3NojZ",
        "outputId": "07a3ac7d-3c10-458d-b7d0-76117658d3fc"
      },
      "outputs": [
        {
          "data": {
            "text/html": [
              "<video alt=\"videos/ppo-cartpole-step-0-to-step-500.mp4\" autoplay \n",
              "                    loop controls style=\"height: 400px;\">\n",
              "                    <source src=\"data:video/mp4;base64,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\" type=\"video/mp4\" />\n",
              "                </video>"
            ],
            "text/plain": [
              "<IPython.core.display.HTML object>"
            ]
          },
          "metadata": {},
          "output_type": "display_data"
        }
      ],
      "source": [
        "show_videos('videos', prefix='ppo')"
      ]
    },
    {
      "cell_type": "markdown",
      "metadata": {
        "id": "9Y8zg4V566qD"
      },
      "source": [
        "## Bonus: Train a RL Model in One Line\n",
        "\n",
        "The policy class to use will be inferred and the environment will be automatically created. This works because both are [registered](https://stable-baselines.readthedocs.io/en/master/guide/quickstart.html)."
      ]
    },
    {
      "cell_type": "code",
      "execution_count": 21,
      "metadata": {
        "colab": {
          "base_uri": "https://localhost:8080/"
        },
        "id": "iaOPfOrwWEP4",
        "outputId": "eee15bec-ee4d-486c-8e27-9b2cc6d1cc4e"
      },
      "outputs": [
        {
          "name": "stdout",
          "output_type": "stream",
          "text": [
            "Using cuda device\n",
            "Creating environment from the given name 'CartPole-v1'\n",
            "Wrapping the env with a `Monitor` wrapper\n",
            "Wrapping the env in a DummyVecEnv.\n",
            "---------------------------------\n",
            "| rollout/           |          |\n",
            "|    ep_len_mean     | 22.4     |\n",
            "|    ep_rew_mean     | 22.4     |\n",
            "| time/              |          |\n",
            "|    fps             | 921      |\n",
            "|    iterations      | 1        |\n",
            "|    time_elapsed    | 2        |\n",
            "|    total_timesteps | 2048     |\n",
            "---------------------------------\n"
          ]
        }
      ],
      "source": [
        "model = PPO('MlpPolicy', \"CartPole-v1\", verbose=1).learn(1000)"
      ]
    },
    {
      "cell_type": "code",
      "execution_count": 21,
      "metadata": {
        "id": "Se8SHBN17Fy4"
      },
      "outputs": [],
      "source": []
    },
    {
      "cell_type": "markdown",
      "metadata": {
        "id": "FrI6f5fWnzp-"
      },
      "source": [
        "## Conclusion\n",
        "\n",
        "In this notebook we have seen:\n",
        "- how to define and train a RL model using stable baselines3, it takes only one line of code ;)\n"
      ]
    },
    {
      "cell_type": "code",
      "execution_count": null,
      "metadata": {
        "id": "73ji3gbNDkf7"
      },
      "outputs": [],
      "source": []
    }
  ],
  "metadata": {
    "accelerator": "GPU",
    "colab": {
      "collapsed_sections": [],
      "name": "1_getting_started.ipynb",
      "provenance": []
    },
    "kernelspec": {
      "display_name": "Python 3.9.6 64-bit",
      "language": "python",
      "name": "python3"
    },
    "language_info": {
      "name": "python",
      "version": "3.9.6"
    },
    "vscode": {
      "interpreter": {
        "hash": "31f2aee4e71d21fbe5cf8b01ff0e069b9275f58929596ceb00d14d90e3e16cd6"
      }
    }
  },
  "nbformat": 4,
  "nbformat_minor": 0
}
