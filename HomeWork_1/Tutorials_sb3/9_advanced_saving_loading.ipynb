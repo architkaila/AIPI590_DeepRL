{
  "nbformat": 4,
  "nbformat_minor": 0,
  "metadata": {
    "colab": {
      "name": "advanced_saving_loading.ipynb",
      "provenance": [],
      "collapsed_sections": []
    },
    "kernelspec": {
      "name": "python3",
      "display_name": "Python 3"
    },
    "accelerator": "GPU"
  },
  "cells": [
    {
      "cell_type": "markdown",
      "metadata": {
        "id": "hyyN-2qyK_T2"
      },
      "source": [
        "# Stable Baselines3 - Advanced Saving and Loading\n",
        "\n",
        "Github Repo: [https://github.com/DLR-RM/stable-baselines3](https://github.com/DLR-RM/stable-baselines3)\n",
        "\n",
        "\n",
        "[RL Baselines3 Zoo](https://github.com/DLR-RM/rl-baselines3-zoo) is a collection of pre-trained Reinforcement Learning agents using Stable-Baselines3.\n",
        "\n",
        "It also provides basic scripts for training, evaluating agents, tuning hyperparameters and recording videos.\n",
        "\n",
        "Documentation is available online: [https://stable-baselines3.readthedocs.io/](https://stable-baselines3.readthedocs.io/)\n",
        "\n",
        "## Introduction\n",
        "\n",
        "In this notebook, you will learn how to use some advanced features of stable baselines3 (SB3): how to easily create a test environment for periodic evaluation, use a policy independently from a model (and how to save it, load it) and save/load a replay buffer.\n",
        "\n",
        "## Install Dependencies and Stable Baselines Using Pip\n",
        "\n",
        "\n",
        "```\n",
        "pip install stable-baselines3[extra]\n",
        "```"
      ]
    },
    {
      "cell_type": "code",
      "metadata": {
        "id": "gWskDE2c9WoN"
      },
      "source": [
        "!pip install stable-baselines3[extra]"
      ],
      "execution_count": null,
      "outputs": []
    },
    {
      "cell_type": "markdown",
      "metadata": {
        "id": "FtY8FhliLsGm"
      },
      "source": [
        "## Import policy, RL agent, ..."
      ]
    },
    {
      "cell_type": "code",
      "metadata": {
        "id": "BIedd7Pz9sOs"
      },
      "source": [
        "from stable_baselines3 import SAC, TD3\n",
        "from stable_baselines3.common.evaluation import evaluate_policy"
      ],
      "execution_count": null,
      "outputs": []
    },
    {
      "cell_type": "markdown",
      "metadata": {
        "id": "RapkYvTXL7Cd"
      },
      "source": [
        "## Create the Gym env and instantiate the agent\n",
        "\n",
        "For this example, we will use Pendulum environment.\n",
        "\n",
        "\"The inverted pendulum swingup problem is a classic problem in the control literature. In this version of the problem, the pendulum starts in a random position, and the goal is to swing it up so it stays upright.\"\n",
        "\n",
        "Pendulum-v1 environment: [documentation (for older but similar version)](https://gym.openai.com/envs/Pendulum-v0/), [source code](https://github.com/openai/gym/blob/master/gym/envs/classic_control/pendulum.py)\n",
        "\n",
        "![Pendulum](https://gym.openai.com/videos/2019-10-21--mqt8Qj1mwo/Pendulum-v0/poster.jpg)\n",
        "\n",
        "\n",
        "We chose the MlpPolicy because input of Pendulum is a feature vector, not images.\n",
        "\n",
        "The type of action to use (discrete/continuous) will be automatically deduced from the environment action space\n",
        "\n"
      ]
    },
    {
      "cell_type": "markdown",
      "metadata": {
        "id": "eyt_yXx78FvB"
      },
      "source": [
        "### Create the environment and evaluation environment\n",
        "\n",
        "Stable-Baselines3 allows to automatically create an environment for evaluation.\n",
        "For that, you only need to specify `create_eval_env=True` when passing the Gym ID of the environment."
      ]
    },
    {
      "cell_type": "code",
      "metadata": {
        "id": "pUWGZp3i9wyf",
        "outputId": "75553a25-9d37-4d73-9ccb-a05c85ea6927",
        "colab": {
          "base_uri": "https://localhost:8080/",
          "height": 88
        }
      },
      "source": [
        "model = SAC('MlpPolicy', 'Pendulum-v1', verbose=1, learning_rate=1e-3, create_eval_env=True)"
      ],
      "execution_count": null,
      "outputs": [
        {
          "output_type": "stream",
          "text": [
            "Using cuda device\n",
            "Creating environment from the given name 'Pendulum-v1'\n",
            "Creating environment from the given name 'Pendulum-v1'\n",
            "Wrapping the env in a DummyVecEnv.\n"
          ],
          "name": "stdout"
        }
      ]
    },
    {
      "cell_type": "markdown",
      "metadata": {
        "id": "4efFdrQ7MBvl"
      },
      "source": [
        "Train the agent and evaluate it periodically on the test env.\n",
        "\n",
        "Behind the scene, SB3 uses an [EvalCallback](https://stable-baselines3.readthedocs.io/en/master/guide/callbacks.html#evalcallback)"
      ]
    },
    {
      "cell_type": "code",
      "metadata": {
        "id": "HfOdzGNo8QQg"
      },
      "source": [
        "# Evaluate the model every 1000 steps on 5 test episodes and save the evaluation to the logs folder\n",
        "model.learn(6000, eval_freq=1000, n_eval_episodes=5, eval_log_path=\"./logs/\")"
      ],
      "execution_count": null,
      "outputs": []
    },
    {
      "cell_type": "markdown",
      "metadata": {
        "id": "sw80kaed3Zba"
      },
      "source": [
        "## Save/Load the replay buffer\n",
        "\n",
        "By default, the replay buffer is not saved when calling `model.save()`, in order to save space on the disk (a replay buffer can be up to several GB when using images).\n",
        "However, SB3 provides a `save_replay_buffer()` and `load_replay_buffer()` method to save it separately."
      ]
    },
    {
      "cell_type": "code",
      "metadata": {
        "id": "T65Bo7-k3dWL",
        "outputId": "896cd86f-5b87-48a3-da0b-5f5543a6f889",
        "colab": {
          "base_uri": "https://localhost:8080/",
          "height": 35
        }
      },
      "source": [
        "# save the model\n",
        "model.save(\"sac_pendulum\")\n",
        "\n",
        "# the saved model does not contain the replay buffer\n",
        "loaded_model = SAC.load(\"sac_pendulum\")\n",
        "print(f\"The loaded_model has {loaded_model.replay_buffer.size()} transitions in its buffer\")"
      ],
      "execution_count": null,
      "outputs": [
        {
          "output_type": "stream",
          "text": [
            "The loaded_model has 0 transitions in its buffer\n"
          ],
          "name": "stdout"
        }
      ]
    },
    {
      "cell_type": "code",
      "metadata": {
        "id": "xEpCyKQN4kvw",
        "outputId": "36b920b9-9762-4077-fb2b-6fbbae390488",
        "colab": {
          "base_uri": "https://localhost:8080/",
          "height": 35
        }
      },
      "source": [
        "# now save the replay buffer too\n",
        "model.save_replay_buffer(\"sac_replay_buffer\")\n",
        "\n",
        "# load it into the loaded_model\n",
        "loaded_model.load_replay_buffer(\"sac_replay_buffer\")\n",
        "\n",
        "# now the loaded replay is not empty anymore\n",
        "print(f\"The loaded_model has {loaded_model.replay_buffer.size()} transitions in its buffer\")"
      ],
      "execution_count": null,
      "outputs": [
        {
          "output_type": "stream",
          "text": [
            "The loaded_model has 6000 transitions in its buffer\n"
          ],
          "name": "stdout"
        }
      ]
    },
    {
      "cell_type": "markdown",
      "metadata": {
        "id": "wELlF5un9edF"
      },
      "source": [
        "## Save the policy only\n",
        "\n",
        "In SB3, you save the policy independently from the model if needed.\n",
        "\n",
        "Note: if you don't save the complete model, you cannot continue training afterward"
      ]
    },
    {
      "cell_type": "code",
      "metadata": {
        "id": "PeaVBGuJwK97"
      },
      "source": [
        "policy = model.policy\n",
        "policy.save(\"sac_policy_pendulum.pkl\")"
      ],
      "execution_count": null,
      "outputs": []
    },
    {
      "cell_type": "code",
      "metadata": {
        "id": "1PFEOuOI-S7t"
      },
      "source": [
        "env = model.get_env()"
      ],
      "execution_count": null,
      "outputs": []
    },
    {
      "cell_type": "code",
      "metadata": {
        "id": "KTEhTvLD9rQy"
      },
      "source": [
        "# Evaluate the policy\n",
        "mean_reward, std_reward = evaluate_policy(policy, env, n_eval_episodes=10, deterministic=True)\n",
        "\n",
        "print(f\"mean_reward={mean_reward:.2f} +/- {std_reward}\")"
      ],
      "execution_count": null,
      "outputs": []
    },
    {
      "cell_type": "markdown",
      "metadata": {
        "id": "714wHSKT9iEg"
      },
      "source": [
        "## Load the policy only"
      ]
    },
    {
      "cell_type": "code",
      "metadata": {
        "id": "oplcPwc-95a1"
      },
      "source": [
        "from stable_baselines3.sac.policies import MlpPolicy"
      ],
      "execution_count": null,
      "outputs": []
    },
    {
      "cell_type": "code",
      "metadata": {
        "id": "mogPtE0D90hw"
      },
      "source": [
        "saved_policy = MlpPolicy.load(\"sac_policy_pendulum.pkl\")"
      ],
      "execution_count": null,
      "outputs": []
    },
    {
      "cell_type": "code",
      "metadata": {
        "id": "ygl_gVmV_QP7"
      },
      "source": [
        "# Evaluate the loaded policy\n",
        "mean_reward, std_reward = evaluate_policy(saved_policy, env, n_eval_episodes=10, deterministic=True)\n",
        "\n",
        "print(f\"mean_reward={mean_reward:.2f} +/- {std_reward}\")"
      ],
      "execution_count": null,
      "outputs": []
    },
    {
      "cell_type": "code",
      "metadata": {
        "id": "aQDZI5VEGnUq"
      },
      "source": [],
      "execution_count": null,
      "outputs": []
    }
  ]
}